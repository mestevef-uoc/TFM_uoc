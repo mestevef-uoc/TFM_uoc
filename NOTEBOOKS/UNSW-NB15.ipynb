{
  "cells": [
    {
      "cell_type": "markdown",
      "metadata": {
        "id": "TgzB4MF9OTKG"
      },
      "source": [
        "UNSW-NB15 dataset\n",
        "\n",
        "Explanation of Key Features:\n",
        "\n",
        "\n",
        "\n",
        "* **id**: A unique identifier for each record.\n",
        "*  **dur** (duration): Duration of the connection in seconds, indicating how long a connection lasts. Longer durations or unusuall short session may indicate certain attack behaviours\n",
        "*  **proto** (protocol): The protocol used for the connection (e.g., TCP, UDP, ICMP).\n",
        "*  **service**: Type of service involved (e.g., HTTP, FTP, SMTP).\n",
        "*  **state**: State of the connection (e.g., FIN, CON, INT). Monitoring connections states can reveal irregularities such half open connections or abnormal terminations often seen in reconnaissance or denial-of service attacks.\n",
        "*  **spkts** (source packets): Number of packets sent by the source. Hig or low packet counts could signify flood attacks or incomplete scans.\n",
        "*  **dpkts** (destination packets): Number of packets received by the destination. In case there is disparities between source and destination packet counts can hint at dropped packets , congestion or deliberate interference.\n",
        "*  **sbytes** (source bytes): Number of bytes sent by the source. Large payloads may be indicative of data exfiltration or very small values could indicate certain scanning techniques.\n",
        "* **dbytes** (destination bytes): Number of bytes received by the destination.Unusual values might singal malicious behaviour like large data dumps or command-and-control communications.\n",
        "*  **rate**: Traffic flow rate. Hight throughput or sudden spikes can correlate with bursty attacks like DDoS\n",
        "* **sttl** (source time-to-live): The TTL value set by the source; used in analyzing packet lifetimes.Alterede TTL values mcould indicate spoofed packets.\n",
        "*  **dttl** (destination time-to-live): The TTL value set by the destination.\n",
        "*  **sload** (source load): Load on the source during the connection.\n",
        "*  **dload** (destination load): Load on the destination during the connection.\n",
        "* **sloss** (source loss): Number of packets lost by the source.Excessive packet loss could point to congestion or malicious traffic being dropped by security devices\n",
        "*  **dloss** (destination loss): Number of packets lost by the destination.\n",
        "* **sinpkt** (source inter-packet arrival time): Time between packets sent by the source.\n",
        "* **dinpkt** (destination inter-packet arrival time): Time between packets received by the destination.\n",
        "* **sjit** (source jitter): Jitter in the packet flow from the source. Unusual jitter patters might be congestion or deliberate timing obfuscation by attackers.\n",
        "* **djit** (destination jitter): Jitter in the packet flow to the destination.\n",
        "* **swin** (source window size): The size of the source's TCP window. Attackers can manipulate windows sizes to disrupt normal flow or disguise malicious patters.\n",
        "* **stcpb** (source TCP base sequence number): TCP sequence number from the source.Suspicious manipulation of sequence numbers can be tied to attacks like session hijacking.\n",
        "* **dtcpb** (destination TCP base sequence number): TCP sequence number from the destination.\n",
        "* **dwin** (destination window size): The size of the destination's TCP window.\n",
        "* **tcprtt** (TCP round-trip time): Round-trip time for TCP packets.\n",
        "* **synack**: Time between SYN and ACK packets.\n",
        "* **ackdat**: Time between ACK packets.Extended or irregular intervals might reflect disrupted communications caused by an attack\n",
        "* **smean** (source mean): Mean of the source's data.Atypical distributions of sizes could mark unusual payload patterns.\n",
        "* **dmean** (destination mean): Mean of the destination's data.\n",
        "* **trans_depth**: The depth of the connection, indicating levels of HTTP transactions.\n",
        "* **response_body_len**: Length of the response body.Unusually large responses might point to data leakage, while very small or no response might align with scanning or failed exploit attempts.\n",
        "* **ct_srv_src**: Count of connections to the same service from the same source. Multiple repeated attempts can signal brute-force attacks or persistent scanning.\n",
        "* **ct_state_ttl**: Count of connections with the same state and TTL.Recurrent patterns could hint at automated tools trying the same exploit repeatedly.\n",
        "* **ct_dst_ltm**: Count of connections to the same destination over time.\n",
        "* **ct_src_dport_ltm**: Count of connections from the same source to a specific destination port over time.\n",
        "* **ct_dst_sport_ltm**: Count of connections to the same destination from a specific source port over time.\n",
        "* **ct_dst_src_ltm**: Count of connections between the same source and destination.\n",
        "* **is_ftp_login**: Binary indicator of whether an FTP login attempt was made.Attackers often try brute-force credentials, making this a direct indicator of malicious behavior.\n",
        "* **ct_ftp_cmd**: Number of FTP commands in the connection.Excessive commands may suggest attempted exploitation, brute force, or reconnaissance on FTP servers.\n",
        "* **ct_flw_http_mthd**: Number of HTTP methods used in the connection.. Attackers may use unusual or numerous HTTP methods to discover server vulnerabilities.\n",
        "* **ct_src_ltm**: Count of connections from the same source over time.\n",
        "* **ct_srv_dst**: Count of connections to the same service at the destination.\n",
        "* **is_sm_ips_ports**: Binary indicator if the source and destination IPs and ports are the same.\n",
        "* **attack_cat**: The category of the attack (e.g., DoS, Probe, Normal).This is essential for supervised learning tasks, as it allows for multi-class classification and deeper insight into what type of attack is occurring.\n",
        "* **label**: Binary classification label (0 for normal traffic, 1 for malicious traffic).This is the primary variable used in classification tasks to evaluate the effectiveness of detection algorithms."
      ]
    },
    {
      "cell_type": "code",
      "execution_count": 3,
      "metadata": {
        "colab": {
          "base_uri": "https://localhost:8080/"
        },
        "id": "vk52F7pnG1cP",
        "outputId": "c6cc52ce-98fd-4df5-e6d2-8d849581d838"
      },
      "outputs": [
        {
          "output_type": "stream",
          "name": "stdout",
          "text": [
            "Drive already mounted at /content/drive; to attempt to forcibly remount, call drive.mount(\"/content/drive\", force_remount=True).\n"
          ]
        }
      ],
      "source": [
        "#mount google drive\n",
        "from google.colab import drive\n",
        "drive.mount('/content/drive')"
      ]
    },
    {
      "cell_type": "code",
      "execution_count": 4,
      "metadata": {
        "id": "Sqm34R4gOXOR"
      },
      "outputs": [],
      "source": [
        "# Paths to the CSV files in the 'datasets' folder\n",
        "training_set_path = '/content/drive/My Drive/datasets/UNSW_NB15_training-set.csv'\n",
        "testing_set_path = '/content/drive/My Drive/datasets/UNSW_NB15_testing-set.csv'\n",
        "\n"
      ]
    },
    {
      "cell_type": "code",
      "execution_count": 5,
      "metadata": {
        "colab": {
          "base_uri": "https://localhost:8080/"
        },
        "id": "4N4FuxKcOXym",
        "outputId": "87c6fe5c-36bd-4ed7-ce56-4c3857298cb4"
      },
      "outputs": [
        {
          "output_type": "stream",
          "name": "stdout",
          "text": [
            "Training Set:\n",
            "   id       dur proto service state  spkts  dpkts  sbytes  dbytes       rate  \\\n",
            "0   1  0.121478   tcp       -   FIN      6      4     258     172  74.087490   \n",
            "1   2  0.649902   tcp       -   FIN     14     38     734   42014  78.473372   \n",
            "2   3  1.623129   tcp       -   FIN      8     16     364   13186  14.170161   \n",
            "3   4  1.681642   tcp     ftp   FIN     12     12     628     770  13.677108   \n",
            "4   5  0.449454   tcp       -   FIN     10      6     534     268  33.373826   \n",
            "\n",
            "   ...  ct_dst_sport_ltm  ct_dst_src_ltm  is_ftp_login  ct_ftp_cmd  \\\n",
            "0  ...                 1               1             0           0   \n",
            "1  ...                 1               2             0           0   \n",
            "2  ...                 1               3             0           0   \n",
            "3  ...                 1               3             1           1   \n",
            "4  ...                 1              40             0           0   \n",
            "\n",
            "   ct_flw_http_mthd  ct_src_ltm  ct_srv_dst  is_sm_ips_ports  attack_cat  \\\n",
            "0                 0           1           1                0      Normal   \n",
            "1                 0           1           6                0      Normal   \n",
            "2                 0           2           6                0      Normal   \n",
            "3                 0           2           1                0      Normal   \n",
            "4                 0           2          39                0      Normal   \n",
            "\n",
            "   label  \n",
            "0      0  \n",
            "1      0  \n",
            "2      0  \n",
            "3      0  \n",
            "4      0  \n",
            "\n",
            "[5 rows x 45 columns]\n",
            "\n",
            "Testing Set:\n",
            "   id       dur proto service state  spkts  dpkts  sbytes  dbytes  \\\n",
            "0   1  0.000011   udp       -   INT      2      0     496       0   \n",
            "1   2  0.000008   udp       -   INT      2      0    1762       0   \n",
            "2   3  0.000005   udp       -   INT      2      0    1068       0   \n",
            "3   4  0.000006   udp       -   INT      2      0     900       0   \n",
            "4   5  0.000010   udp       -   INT      2      0    2126       0   \n",
            "\n",
            "          rate  ...  ct_dst_sport_ltm  ct_dst_src_ltm  is_ftp_login  \\\n",
            "0   90909.0902  ...                 1               2             0   \n",
            "1  125000.0003  ...                 1               2             0   \n",
            "2  200000.0051  ...                 1               3             0   \n",
            "3  166666.6608  ...                 1               3             0   \n",
            "4  100000.0025  ...                 1               3             0   \n",
            "\n",
            "   ct_ftp_cmd  ct_flw_http_mthd  ct_src_ltm  ct_srv_dst  is_sm_ips_ports  \\\n",
            "0           0                 0           1           2                0   \n",
            "1           0                 0           1           2                0   \n",
            "2           0                 0           1           3                0   \n",
            "3           0                 0           2           3                0   \n",
            "4           0                 0           2           3                0   \n",
            "\n",
            "   attack_cat  label  \n",
            "0      Normal      0  \n",
            "1      Normal      0  \n",
            "2      Normal      0  \n",
            "3      Normal      0  \n",
            "4      Normal      0  \n",
            "\n",
            "[5 rows x 45 columns]\n"
          ]
        }
      ],
      "source": [
        "import pandas as pd\n",
        "import matplotlib.pyplot as plt\n",
        "\n",
        "# Load the training, testing, and feature CSV files\n",
        "training_df = pd.read_csv(training_set_path)\n",
        "testing_df = pd.read_csv(testing_set_path)\n",
        "\n",
        "\n",
        "# Display the first few rows of each dataframe to ensure they loaded correctly\n",
        "print(\"Training Set:\")\n",
        "print(training_df.head())\n",
        "\n",
        "print(\"\\nTesting Set:\")\n",
        "print(testing_df.head())\n",
        "\n"
      ]
    },
    {
      "cell_type": "code",
      "execution_count": 6,
      "metadata": {
        "colab": {
          "base_uri": "https://localhost:8080/"
        },
        "id": "LUL1R2y39aMH",
        "outputId": "f712220b-2f17-4400-ebd3-7c1c841ed660"
      },
      "outputs": [
        {
          "output_type": "stream",
          "name": "stdout",
          "text": [
            "Training data shape: (175341, 45)\n",
            "Testing data shape: (82332, 45)\n"
          ]
        }
      ],
      "source": [
        "# We are checkign here the total number of rows and columns from the training and test dataset.\n",
        "\n",
        "print(\"Training data shape:\", training_df.shape)\n",
        "print(\"Testing data shape:\", testing_df.shape)\n"
      ]
    },
    {
      "cell_type": "code",
      "execution_count": 7,
      "metadata": {
        "colab": {
          "base_uri": "https://localhost:8080/"
        },
        "id": "61ZiuWfh9fyQ",
        "outputId": "73ea7f80-a4b7-4ca3-bb92-cf7854e05ea1"
      },
      "outputs": [
        {
          "output_type": "stream",
          "name": "stdout",
          "text": [
            "id                   0\n",
            "dur                  0\n",
            "proto                0\n",
            "service              0\n",
            "state                0\n",
            "spkts                0\n",
            "dpkts                0\n",
            "sbytes               0\n",
            "dbytes               0\n",
            "rate                 0\n",
            "sttl                 0\n",
            "dttl                 0\n",
            "sload                0\n",
            "dload                0\n",
            "sloss                0\n",
            "dloss                0\n",
            "sinpkt               0\n",
            "dinpkt               0\n",
            "sjit                 0\n",
            "djit                 0\n",
            "swin                 0\n",
            "stcpb                0\n",
            "dtcpb                0\n",
            "dwin                 0\n",
            "tcprtt               0\n",
            "synack               0\n",
            "ackdat               0\n",
            "smean                0\n",
            "dmean                0\n",
            "trans_depth          0\n",
            "response_body_len    0\n",
            "ct_srv_src           0\n",
            "ct_state_ttl         0\n",
            "ct_dst_ltm           0\n",
            "ct_src_dport_ltm     0\n",
            "ct_dst_sport_ltm     0\n",
            "ct_dst_src_ltm       0\n",
            "is_ftp_login         0\n",
            "ct_ftp_cmd           0\n",
            "ct_flw_http_mthd     0\n",
            "ct_src_ltm           0\n",
            "ct_srv_dst           0\n",
            "is_sm_ips_ports      0\n",
            "attack_cat           0\n",
            "label                0\n",
            "dtype: int64\n",
            "id                   0\n",
            "dur                  0\n",
            "proto                0\n",
            "service              0\n",
            "state                0\n",
            "spkts                0\n",
            "dpkts                0\n",
            "sbytes               0\n",
            "dbytes               0\n",
            "rate                 0\n",
            "sttl                 0\n",
            "dttl                 0\n",
            "sload                0\n",
            "dload                0\n",
            "sloss                0\n",
            "dloss                0\n",
            "sinpkt               0\n",
            "dinpkt               0\n",
            "sjit                 0\n",
            "djit                 0\n",
            "swin                 0\n",
            "stcpb                0\n",
            "dtcpb                0\n",
            "dwin                 0\n",
            "tcprtt               0\n",
            "synack               0\n",
            "ackdat               0\n",
            "smean                0\n",
            "dmean                0\n",
            "trans_depth          0\n",
            "response_body_len    0\n",
            "ct_srv_src           0\n",
            "ct_state_ttl         0\n",
            "ct_dst_ltm           0\n",
            "ct_src_dport_ltm     0\n",
            "ct_dst_sport_ltm     0\n",
            "ct_dst_src_ltm       0\n",
            "is_ftp_login         0\n",
            "ct_ftp_cmd           0\n",
            "ct_flw_http_mthd     0\n",
            "ct_src_ltm           0\n",
            "ct_srv_dst           0\n",
            "is_sm_ips_ports      0\n",
            "attack_cat           0\n",
            "label                0\n",
            "dtype: int64\n"
          ]
        }
      ],
      "source": [
        "# here we are check if there are any missing values.\n",
        "\n",
        "print(training_df.isnull().sum())\n",
        "print(testing_df.isnull().sum())\n"
      ]
    },
    {
      "cell_type": "code",
      "execution_count": 8,
      "metadata": {
        "colab": {
          "base_uri": "https://localhost:8080/"
        },
        "id": "gZuiZV1v-Ypw",
        "outputId": "b19fd302-5949-4917-cba9-0617387bdfd8"
      },
      "outputs": [
        {
          "output_type": "stream",
          "name": "stdout",
          "text": [
            "id                     int64\n",
            "dur                  float64\n",
            "proto                 object\n",
            "service               object\n",
            "state                 object\n",
            "spkts                  int64\n",
            "dpkts                  int64\n",
            "sbytes                 int64\n",
            "dbytes                 int64\n",
            "rate                 float64\n",
            "sttl                   int64\n",
            "dttl                   int64\n",
            "sload                float64\n",
            "dload                float64\n",
            "sloss                  int64\n",
            "dloss                  int64\n",
            "sinpkt               float64\n",
            "dinpkt               float64\n",
            "sjit                 float64\n",
            "djit                 float64\n",
            "swin                   int64\n",
            "stcpb                  int64\n",
            "dtcpb                  int64\n",
            "dwin                   int64\n",
            "tcprtt               float64\n",
            "synack               float64\n",
            "ackdat               float64\n",
            "smean                  int64\n",
            "dmean                  int64\n",
            "trans_depth            int64\n",
            "response_body_len      int64\n",
            "ct_srv_src             int64\n",
            "ct_state_ttl           int64\n",
            "ct_dst_ltm             int64\n",
            "ct_src_dport_ltm       int64\n",
            "ct_dst_sport_ltm       int64\n",
            "ct_dst_src_ltm         int64\n",
            "is_ftp_login           int64\n",
            "ct_ftp_cmd             int64\n",
            "ct_flw_http_mthd       int64\n",
            "ct_src_ltm             int64\n",
            "ct_srv_dst             int64\n",
            "is_sm_ips_ports        int64\n",
            "attack_cat            object\n",
            "label                  int64\n",
            "dtype: object\n"
          ]
        }
      ],
      "source": [
        "# we check the type of data of each column\n",
        "print(training_df.dtypes)\n"
      ]
    },
    {
      "cell_type": "markdown",
      "metadata": {
        "id": "RmcYb4HO_Eag"
      },
      "source": [
        "The data indicates that most of the features are numeric but still there are a few columns with object types like proto , service , state and attack_cat"
      ]
    },
    {
      "cell_type": "code",
      "execution_count": 9,
      "metadata": {
        "colab": {
          "base_uri": "https://localhost:8080/"
        },
        "id": "xZMiG-wK_om3",
        "outputId": "136975b4-eff1-4cb5-90a0-be33d287628e"
      },
      "outputs": [
        {
          "output_type": "stream",
          "name": "stdout",
          "text": [
            "Unique proto: 133\n",
            "Unique service: 13\n",
            "Unique state: 9\n",
            "Unique attack_cat: 10\n"
          ]
        }
      ],
      "source": [
        "# here we check how many unique categories we have in each categorical column\n",
        "print(\"Unique proto:\", training_df['proto'].nunique())\n",
        "print(\"Unique service:\", training_df['service'].nunique())\n",
        "print(\"Unique state:\", training_df['state'].nunique())\n",
        "print(\"Unique attack_cat:\", training_df['attack_cat'].nunique())\n"
      ]
    },
    {
      "cell_type": "markdown",
      "metadata": {
        "id": "xZRU9suGBd0I"
      },
      "source": [
        "The feature proto has a huge large of categories - For this normally it is used label encoding"
      ]
    },
    {
      "cell_type": "code",
      "execution_count": 10,
      "metadata": {
        "colab": {
          "base_uri": "https://localhost:8080/"
        },
        "id": "EeIaDZJHvfbJ",
        "outputId": "126ed0ed-c760-4ca4-ac27-8c6812f6bdcd"
      },
      "outputs": [
        {
          "output_type": "stream",
          "name": "stdout",
          "text": [
            "['Normal' 'Backdoor' 'Analysis' 'Fuzzers' 'Shellcode' 'Reconnaissance'\n",
            " 'Exploits' 'DoS' 'Worms' 'Generic']\n",
            "attack_cat\n",
            "Normal            56000\n",
            "Generic           40000\n",
            "Exploits          33393\n",
            "Fuzzers           18184\n",
            "DoS               12264\n",
            "Reconnaissance    10491\n",
            "Analysis           2000\n",
            "Backdoor           1746\n",
            "Shellcode          1133\n",
            "Worms               130\n",
            "Name: count, dtype: int64\n"
          ]
        }
      ],
      "source": [
        "# Display all unique attack categories in the training set\n",
        "print(training_df['attack_cat'].unique())\n",
        "\n",
        "# Display the number of instances for each category\n",
        "print(training_df['attack_cat'].value_counts())\n"
      ]
    },
    {
      "cell_type": "markdown",
      "metadata": {
        "id": "QJZSi-RL1U6h"
      },
      "source": [
        "\n",
        "\n",
        "*   **Generic** ->  not tied to a specific protocol or exploit type\n",
        "*   **Exploits** -> target vulnerabilities in software, services, or systems\n",
        "*   **Fuzzers** -> involves sending large amounts of malformed, unexpected, or random data to a system or application\n",
        "*  **DoS (Denial of Service)** DoS attacks flood a target with excessive traffic or requests, overloading its resources and making it unavailable to legitimate users.\n",
        "*    **Reconnaissance** -> These involve gathering information about a target system or network without directly exploiting it.\n",
        "*   **Analysis** -> Involve more passive methods of examining data, such as sniffing network packets or using tools to analyze traffic flow\n",
        "*   **Backdoor** -> A backdoor is a hidden entry point into a system that bypasses standard authentication or security controls.\n",
        "*   **Shellcode** -> involve sending a small piece of malicious code (shellcode) that the target’s system executes directly\n",
        "*   **Worms** -> Worms are self-replicating malware that spread automatically across networks without human interaction.\n",
        "\n",
        "\n",
        "\n",
        "\n",
        "\n",
        "\n",
        "\n"
      ]
    },
    {
      "cell_type": "code",
      "execution_count": 11,
      "metadata": {
        "colab": {
          "base_uri": "https://localhost:8080/"
        },
        "id": "XnjkaxMi-uJT",
        "outputId": "9cd478a5-5e69-4c41-b55c-a880a30ce6f4"
      },
      "outputs": [
        {
          "output_type": "stream",
          "name": "stdout",
          "text": [
            "                  id            dur          spkts          dpkts  \\\n",
            "count  175341.000000  175341.000000  175341.000000  175341.000000   \n",
            "mean    87671.000000       1.359389      20.298664      18.969591   \n",
            "std     50616.731112       6.480249     136.887597     110.258271   \n",
            "min         1.000000       0.000000       1.000000       0.000000   \n",
            "25%     43836.000000       0.000008       2.000000       0.000000   \n",
            "50%     87671.000000       0.001582       2.000000       2.000000   \n",
            "75%    131506.000000       0.668069      12.000000      10.000000   \n",
            "max    175341.000000      59.999989    9616.000000   10974.000000   \n",
            "\n",
            "             sbytes        dbytes          rate           sttl           dttl  \\\n",
            "count  1.753410e+05  1.753410e+05  1.753410e+05  175341.000000  175341.000000   \n",
            "mean   8.844844e+03  1.492892e+04  9.540619e+04     179.546997      79.609567   \n",
            "std    1.747656e+05  1.436542e+05  1.654010e+05     102.940011     110.506863   \n",
            "min    2.800000e+01  0.000000e+00  0.000000e+00       0.000000       0.000000   \n",
            "25%    1.140000e+02  0.000000e+00  3.278614e+01      62.000000       0.000000   \n",
            "50%    4.300000e+02  1.640000e+02  3.225807e+03     254.000000      29.000000   \n",
            "75%    1.418000e+03  1.102000e+03  1.250000e+05     254.000000     252.000000   \n",
            "max    1.296523e+07  1.465555e+07  1.000000e+06     255.000000     254.000000   \n",
            "\n",
            "              sload  ...  ct_src_dport_ltm  ct_dst_sport_ltm  ct_dst_src_ltm  \\\n",
            "count  1.753410e+05  ...     175341.000000     175341.000000   175341.000000   \n",
            "mean   7.345403e+07  ...          5.383538          4.206255        8.729881   \n",
            "std    1.883574e+08  ...          8.047104          5.783585       10.956186   \n",
            "min    0.000000e+00  ...          1.000000          1.000000        1.000000   \n",
            "25%    1.305334e+04  ...          1.000000          1.000000        1.000000   \n",
            "50%    8.796748e+05  ...          1.000000          1.000000        3.000000   \n",
            "75%    8.888889e+07  ...          5.000000          3.000000       12.000000   \n",
            "max    5.988000e+09  ...         51.000000         46.000000       65.000000   \n",
            "\n",
            "        is_ftp_login     ct_ftp_cmd  ct_flw_http_mthd     ct_src_ltm  \\\n",
            "count  175341.000000  175341.000000     175341.000000  175341.000000   \n",
            "mean        0.014948       0.014948          0.133066       6.955789   \n",
            "std         0.126048       0.126048          0.701208       8.321493   \n",
            "min         0.000000       0.000000          0.000000       1.000000   \n",
            "25%         0.000000       0.000000          0.000000       2.000000   \n",
            "50%         0.000000       0.000000          0.000000       3.000000   \n",
            "75%         0.000000       0.000000          0.000000       9.000000   \n",
            "max         4.000000       4.000000         30.000000      60.000000   \n",
            "\n",
            "          ct_srv_dst  is_sm_ips_ports          label  \n",
            "count  175341.000000    175341.000000  175341.000000  \n",
            "mean        9.100758         0.015752       0.680622  \n",
            "std        10.756952         0.124516       0.466237  \n",
            "min         1.000000         0.000000       0.000000  \n",
            "25%         2.000000         0.000000       0.000000  \n",
            "50%         4.000000         0.000000       1.000000  \n",
            "75%        12.000000         0.000000       1.000000  \n",
            "max        62.000000         1.000000       1.000000  \n",
            "\n",
            "[8 rows x 41 columns]\n"
          ]
        }
      ],
      "source": [
        "print(training_df.describe())\n"
      ]
    },
    {
      "cell_type": "markdown",
      "metadata": {
        "id": "p8PJKJYA7Bmv"
      },
      "source": [
        "This statistical summary, provided by training_df.describe(), gives a high-level overview of the numeric features in  UNSW NB15  dataset\n",
        "\n",
        "* **count**: Number of non-null values in each column\n",
        "* **mean**: The average value for each column.\n",
        "* **std**: The standard deviation, indicating how much the values spread around the mean.\n",
        "* **min and max**: The smallest and largest values in each column.\n",
        "* **25%, 50%, 75%: The quartiles**. The 50% (median) value is particularly useful for understanding the distribution. For instance, if the median is very different from the mean, it might indicate a skewed distribution."
      ]
    },
    {
      "cell_type": "code",
      "execution_count": 12,
      "metadata": {
        "colab": {
          "base_uri": "https://localhost:8080/"
        },
        "id": "JOxNp8AF-0M-",
        "outputId": "f1056d56-120b-473a-e2d4-882bd9568f57"
      },
      "outputs": [
        {
          "output_type": "stream",
          "name": "stdout",
          "text": [
            "label\n",
            "1    119341\n",
            "0     56000\n",
            "Name: count, dtype: int64\n",
            "label\n",
            "1    45332\n",
            "0    37000\n",
            "Name: count, dtype: int64\n"
          ]
        }
      ],
      "source": [
        "print(training_df['label'].value_counts())\n",
        "print(testing_df['label'].value_counts())\n"
      ]
    },
    {
      "cell_type": "code",
      "execution_count": 13,
      "metadata": {
        "colab": {
          "base_uri": "https://localhost:8080/"
        },
        "id": "sB7l3lS6CIPB",
        "outputId": "e54895a3-f57c-4119-fa26-db703c68f3f1"
      },
      "outputs": [
        {
          "output_type": "stream",
          "name": "stdout",
          "text": [
            "Descriptive Statistics for Exploits:\n",
            "                  id           dur         spkts         dpkts        sbytes  \\\n",
            "count   33393.000000  33393.000000  33393.000000  33393.000000  3.339300e+04   \n",
            "mean    94704.938191      2.258554     32.717516     22.161830  2.834432e+04   \n",
            "std     31466.081698      7.842914    266.665821    106.254892  3.541032e+05   \n",
            "min     48933.000000      0.000000      1.000000      0.000000  6.000000e+01   \n",
            "25%     68644.000000      0.000009      2.000000      0.000000  2.000000e+02   \n",
            "50%     91189.000000      0.486540     10.000000      8.000000  8.280000e+02   \n",
            "75%    114431.000000      1.373214     20.000000     18.000000  1.384000e+03   \n",
            "max    175306.000000     59.999046   9616.000000   3698.000000  1.296523e+07   \n",
            "\n",
            "             dbytes          rate          sttl          dttl         sload  \\\n",
            "count  3.339300e+04  3.339300e+04  33393.000000  33393.000000  3.339300e+04   \n",
            "mean   1.670278e+04  7.364676e+04    175.934956    149.990477  6.531028e+07   \n",
            "std    1.308844e+05  1.514518e+05     94.737791    123.112584  1.597779e+08   \n",
            "min    0.000000e+00  0.000000e+00      0.000000      0.000000  0.000000e+00   \n",
            "25%    0.000000e+00  2.331551e+01     62.000000      0.000000  7.167269e+03   \n",
            "50%    3.540000e+02  5.754124e+01    254.000000    252.000000  2.948717e+04   \n",
            "75%    1.960000e+03  1.111111e+05    254.000000    252.000000  8.888889e+07   \n",
            "max    4.994486e+06  1.000000e+06    254.000000    252.000000  4.908000e+09   \n",
            "\n",
            "       ...  ct_src_dport_ltm  ct_dst_sport_ltm  ct_dst_src_ltm  is_ftp_login  \\\n",
            "count  ...      33393.000000      33393.000000    33393.000000  33393.000000   \n",
            "mean   ...          1.531908          1.492678        3.087084      0.045459   \n",
            "std    ...          1.203760          1.121677        3.684469      0.221683   \n",
            "min    ...          1.000000          1.000000        1.000000      0.000000   \n",
            "25%    ...          1.000000          1.000000        1.000000      0.000000   \n",
            "50%    ...          1.000000          1.000000        2.000000      0.000000   \n",
            "75%    ...          2.000000          2.000000        4.000000      0.000000   \n",
            "max    ...         25.000000         10.000000       47.000000      4.000000   \n",
            "\n",
            "         ct_ftp_cmd  ct_flw_http_mthd    ct_src_ltm    ct_srv_dst  \\\n",
            "count  33393.000000      33393.000000  33393.000000  33393.000000   \n",
            "mean       0.045459          0.258887      3.311053      2.612554   \n",
            "std        0.221683          0.516873      5.075756      2.629158   \n",
            "min        0.000000          0.000000      1.000000      1.000000   \n",
            "25%        0.000000          0.000000      1.000000      1.000000   \n",
            "50%        0.000000          0.000000      2.000000      1.000000   \n",
            "75%        0.000000          0.000000      3.000000      4.000000   \n",
            "max        4.000000          4.000000     60.000000     44.000000   \n",
            "\n",
            "       is_sm_ips_ports    label  \n",
            "count          33393.0  33393.0  \n",
            "mean               0.0      1.0  \n",
            "std                0.0      0.0  \n",
            "min                0.0      1.0  \n",
            "25%                0.0      1.0  \n",
            "50%                0.0      1.0  \n",
            "75%                0.0      1.0  \n",
            "max                0.0      1.0  \n",
            "\n",
            "[8 rows x 41 columns]\n",
            "\n",
            "Protocols in Exploits Traffic:\n",
            "['tcp' 'ospf' 'encap' 'gmtp' 'pri-enc' 'ifmp' 'pnni' 'aris' 'pim' 'qnx'\n",
            " 'udp' 'sctp' 'scps' 'a/n' 'ipcomp' 'snp' 'compaq-peer' 'ipx-n-ip' 'pgm'\n",
            " 'l2tp' 'zero' 'ddx' 'iatp' 'stp' 'srp' 'uti' 'mobile' 'smp' 'sun-nd'\n",
            " 'swipe' 'sm' 'ptp' 'fire' 'isis' 'crtp' 'crudp' 'sccopmce' 'fc' 'rsvp'\n",
            " 'unas' 'ip' 'ipnip' 'st2' 'argus' 'bbn-rcc' 'emcon' 'igp' 'pup' 'xnet'\n",
            " 'chaos' 'dcn' 'hmp' 'prm' 'trunk-1' 'xns-idp' 'leaf-1' 'leaf-2' 'rdp'\n",
            " 'irtp' 'iso-tp4' 'netblt' 'merit-inp' 'mfe-nsp' '3pc' 'sep' 'idpr' 'xtp'\n",
            " 'idpr-cmtp' 'tp++' 'il' 'ipv6' 'sdrp' 'ipv6-route' 'ipv6-frag' 'idrp'\n",
            " 'gre' 'mhrp' 'rvd' 'i-nlsp' 'narp' 'nvp' 'skip' 'ipv6-no' 'mux'\n",
            " 'ipv6-opts' 'cftp' 'any' 'sat-expak' 'kryptolan' 'trunk-2' 'ippc'\n",
            " 'sat-mon' 'visa' 'ipcv' 'cphb' 'ddp' 'cpnx' 'wsn' 'pvp' 'br-sat-mon'\n",
            " 'wb-mon' 'wb-expak' 'bna' 'iso-ip' 'secure-vmtp' 'vmtp' 'ttp' 'vines'\n",
            " 'nsfnet-igp' 'dgp' 'tcf' 'eigrp' 'larp' 'mtp' 'ax.25' 'ipip' 'aes-sp3-d'\n",
            " 'micp' 'etherip' 'egp' 'ib' 'ggp' 'tlsp' 'cbt' 'sprite-rpc' 'vrrp' 'pipe'\n",
            " 'iplt' 'sps']\n",
            "\n",
            "Services in Exploits Traffic:\n",
            "['http' 'smtp' 'ftp' '-' 'pop3' 'ftp-data' 'dhcp' 'ssl' 'irc' 'dns' 'snmp'\n",
            " 'ssh' 'radius']\n",
            "\n",
            "States in Exploits Traffic:\n",
            "['FIN' 'INT' 'CON' 'REQ' 'RST']\n"
          ]
        }
      ],
      "source": [
        "# Filter rows where 'attack_cat' is 'Exploits'\n",
        "exploits_df = training_df[training_df['attack_cat'] == 'Exploits']\n",
        "\n",
        "# Display basic descriptive statistics\n",
        "print(\"Descriptive Statistics for Exploits:\")\n",
        "print(exploits_df.describe())\n",
        "\n",
        "# Check for unique values in categorical columns of interest\n",
        "print(\"\\nProtocols in Exploits Traffic:\")\n",
        "print(exploits_df['proto'].unique())\n",
        "\n",
        "print(\"\\nServices in Exploits Traffic:\")\n",
        "print(exploits_df['service'].unique())\n",
        "\n",
        "print(\"\\nStates in Exploits Traffic:\")\n",
        "print(exploits_df['state'].unique())\n"
      ]
    },
    {
      "cell_type": "code",
      "execution_count": 14,
      "metadata": {
        "colab": {
          "base_uri": "https://localhost:8080/",
          "height": 452
        },
        "id": "RUwXYSlTDGkM",
        "outputId": "89910d6e-a17e-4c2e-a6ca-8088291aa4a0"
      },
      "outputs": [
        {
          "output_type": "display_data",
          "data": {
            "text/plain": [
              "<Figure size 640x480 with 1 Axes>"
            ],
            "image/png": "[encoded data removed]"
          },
          "metadata": {}
        }
      ],
      "source": [
        "exploits_df['sbytes'].plot(kind='box')\n",
        "plt.title('Distribution of sbytes in Exploits Traffic')\n",
        "plt.show()\n"
      ]
    },
    {
      "cell_type": "markdown",
      "metadata": {
        "id": "lU0Mpo7EIvtN"
      },
      "source": [
        "most exploit records involve small data exchanges, some exploit attempts send extremely large volumes of data, possibly as part of large payload delivery, multiple attempts to exploit a vulnerability, or some kind of data exfiltration or intensive scanning phase.This distribution suggests a high level of variability in how exploits manifest in network traffic. Not all exploits are subtle and small; some are characterized by sending huge volumes of data."
      ]
    },
    {
      "cell_type": "code",
      "execution_count": 15,
      "metadata": {
        "colab": {
          "base_uri": "https://localhost:8080/"
        },
        "id": "7yeox5Xg726Z",
        "outputId": "6972041c-9aa1-4809-c768-5ed7eba321db"
      },
      "outputs": [
        {
          "output_type": "stream",
          "name": "stdout",
          "text": [
            "                  id           dur         spkts         dpkts        sbytes  \\\n",
            "count   12264.000000  12264.000000  12264.000000  12264.000000  1.226400e+04   \n",
            "mean    96876.255545      2.574937     22.524625     18.689008  1.727201e+04   \n",
            "std     30428.931533     10.439241    230.994169    277.031590  2.963956e+05   \n",
            "min     49000.000000      0.000000      1.000000      0.000000  6.000000e+01   \n",
            "25%     71877.250000      0.000005      2.000000      0.000000  2.000000e+02   \n",
            "50%     93093.000000      0.000009      2.000000      0.000000  2.000000e+02   \n",
            "75%    116252.250000      0.240537      4.000000      0.000000  5.690000e+02   \n",
            "max    175249.000000     59.998409   8070.000000  10974.000000  1.067801e+07   \n",
            "\n",
            "             dbytes          rate          sttl          dttl         sload  \\\n",
            "count  1.226400e+04  1.226400e+04  12264.000000  12264.000000  1.226400e+04   \n",
            "mean   1.896922e+04  1.515748e+05    232.846217     48.161448  1.262814e+08   \n",
            "std    3.674002e+05  1.868717e+05     60.884789     98.027604  1.786059e+08   \n",
            "min    0.000000e+00  0.000000e+00      0.000000      0.000000  0.000000e+00   \n",
            "25%    0.000000e+00  7.503581e+01    254.000000      0.000000  6.523830e+04   \n",
            "50%    0.000000e+00  1.111111e+05    254.000000      0.000000  8.888889e+07   \n",
            "75%    0.000000e+00  2.000000e+05    254.000000      0.000000  1.600000e+08   \n",
            "max    1.465555e+07  1.000000e+06    255.000000    252.000000  3.698666e+09   \n",
            "\n",
            "       ...  ct_src_dport_ltm  ct_dst_sport_ltm  ct_dst_src_ltm  is_ftp_login  \\\n",
            "count  ...      12264.000000      12264.000000    12264.000000  12264.000000   \n",
            "mean   ...          2.079746          2.053816        4.914628      0.001386   \n",
            "std    ...          1.499300          1.445424        4.151789      0.037207   \n",
            "min    ...          1.000000          1.000000        1.000000      0.000000   \n",
            "25%    ...          1.000000          1.000000        1.000000      0.000000   \n",
            "50%    ...          2.000000          2.000000        4.000000      0.000000   \n",
            "75%    ...          3.000000          3.000000        6.000000      0.000000   \n",
            "max    ...         33.000000         10.000000       45.000000      1.000000   \n",
            "\n",
            "         ct_ftp_cmd  ct_flw_http_mthd    ct_src_ltm    ct_srv_dst  \\\n",
            "count  12264.000000      12264.000000  12264.000000  12264.000000   \n",
            "mean       0.001386          0.105512      4.011008      4.268836   \n",
            "std        0.037207          0.382427      5.069054      3.092563   \n",
            "min        0.000000          0.000000      1.000000      1.000000   \n",
            "25%        0.000000          0.000000      1.000000      1.000000   \n",
            "50%        0.000000          0.000000      2.000000      4.000000   \n",
            "75%        0.000000          0.000000      4.000000      6.000000   \n",
            "max        1.000000          6.000000     45.000000     20.000000   \n",
            "\n",
            "       is_sm_ips_ports    label  \n",
            "count          12264.0  12264.0  \n",
            "mean               0.0      1.0  \n",
            "std                0.0      0.0  \n",
            "min                0.0      1.0  \n",
            "25%                0.0      1.0  \n",
            "50%                0.0      1.0  \n",
            "75%                0.0      1.0  \n",
            "max                0.0      1.0  \n",
            "\n",
            "[8 rows x 41 columns]\n",
            "\n",
            "Protocols in DoS Traffic:\n",
            "['encap' 'gmtp' 'ifmp' 'aris' 'pim' 'qnx' 'scps' 'a/n' 'ipcomp' 'pgm'\n",
            " 'zero' 'ddx' 'stp' 'srp' 'uti' 'smp' 'fire' 'isis' 'crtp' 'sps' 'fc'\n",
            " 'rsvp' 'unas' 'tcp' 'udp' 'sctp' 'ggp' 'ipnip' 'st2' 'bbn-rcc' 'egp'\n",
            " 'emcon' 'igp' 'nvp' 'xnet' 'chaos' 'prm' 'trunk-1' 'xns-idp' 'leaf-1'\n",
            " 'rdp' 'irtp' 'iso-tp4' 'mfe-nsp' '3pc' 'sep' 'idpr' 'xtp' 'idpr-cmtp'\n",
            " 'tp++' 'il' 'sdrp' 'ipv6-route' 'idrp' 'gre' 'mhrp' 'mobile' 'skip' 'pup'\n",
            " 'ipv6-no' 'ipv6-opts' 'dcn' 'hmp' 'sat-expak' 'trunk-2' 'any' 'ippc'\n",
            " 'netblt' 'merit-inp' 'wsn' 'pvp' 'ipv6' 'sun-nd' 'wb-mon' 'bna' 'iso-ip'\n",
            " 'rvd' 'secure-vmtp' 'vmtp' 'ttp' 'narp' 'vines' 'tlsp' 'dgp' 'tcf' 'cftp'\n",
            " 'sprite-rpc' 'mtp' 'kryptolan' 'ax.25' 'ipip' 'aes-sp3-d' 'micp'\n",
            " 'sat-mon' 'visa' 'mux' 'ospf' 'ip' 'leaf-2' 'ipv6-frag' 'i-nlsp' 'swipe'\n",
            " 'cbt' 'cpnx' 'argus' 'br-sat-mon' 'ddp' 'eigrp' 'larp' 'ipcv' 'etherip'\n",
            " 'cphb' 'wb-expak' 'pri-enc' 'nsfnet-igp' 'pnni' 'snp' 'compaq-peer'\n",
            " 'vrrp' 'l2tp' 'ptp' 'ipx-n-ip' 'crudp' 'sccopmce' 'iplt' 'pipe' 'iatp'\n",
            " 'sm' 'ib']\n",
            "\n",
            "Services in DoS Traffic:\n",
            "['-' 'http' 'smtp' 'dns' 'pop3' 'ftp' 'snmp' 'dhcp' 'irc' 'ftp-data' 'ssl']\n",
            "\n",
            "States in DoS Traffic:\n",
            "['INT' 'FIN' 'CON' 'REQ' 'RST']\n"
          ]
        }
      ],
      "source": [
        "# Filter rows where 'attack_cat' is 'DoS'\n",
        "dos_df = training_df[training_df['attack_cat'] == 'DoS']\n",
        "\n",
        "# Display basic statistics for the DoS subset\n",
        "print(dos_df.describe())\n",
        "\n",
        "# Check for unique values in categorical columns related to DoS\n",
        "print(\"\\nProtocols in DoS Traffic:\")\n",
        "print(dos_df['proto'].unique())\n",
        "\n",
        "print(\"\\nServices in DoS Traffic:\")\n",
        "print(dos_df['service'].unique())\n",
        "\n",
        "print(\"\\nStates in DoS Traffic:\")\n",
        "print(dos_df['state'].unique())\n"
      ]
    },
    {
      "cell_type": "markdown",
      "metadata": {
        "id": "sxQR0daU-HqB"
      },
      "source": [
        "The “strange” or “outlier” values in DoS attacks are generally the extraordinarily high counts of **packets**  ( dur, spkts,dpkts)  **bytes** ( sbytes, dbytes) , **rate** (rate) , and **load** (sload, dload ) . These clearly stand out compared to the median and lower quartiles.  The proto column lists a large number of protocols, many of which are uncommon or obsolete. The presence of so many different protocols could be due to the simulation environment that generated the dataset."
      ]
    },
    {
      "cell_type": "markdown",
      "metadata": {
        "id": "CurdtCs9er1K"
      },
      "source": [
        "This dataset includes both numerical and categorical features that describe network connections.\n",
        "The target columns, attack_cat and label, are used to differentiate between normal and anomalous/malicious traffic.\n",
        "The label column is particularly important for binary classification tasks, indicating whether the traffic is normal (0) or an attack (1).\n",
        "The attack_cat column provides more detailed information about the type of attack, which can be used for multi-class classification."
      ]
    },
    {
      "cell_type": "markdown",
      "metadata": {
        "id": "2-vvkDkWwZGD"
      },
      "source": [
        "**Correlation matrix**  A correlation matrix quantifies the degree to which pairs of variables are related. High correlation between two variables suggests that they carry similar information, indicating that one may be redundant and can be removed from the dataset to simplify the model"
      ]
    },
    {
      "cell_type": "markdown",
      "metadata": {
        "id": "mmcS0-E5wm_j"
      },
      "source": [
        " In the context of machine learning, the correlation matrix helps in feature selection by identifying features that are highly correlated with the target variable but less correlated with each other. This is crucial for building effective models, as it reduces multicollinearity and enhances model performance"
      ]
    },
    {
      "cell_type": "code",
      "execution_count": 16,
      "metadata": {
        "colab": {
          "base_uri": "https://localhost:8080/"
        },
        "id": "8waEbji5ojD0",
        "outputId": "6f1bc1af-847e-402a-a026-1d31ce01e9a2"
      },
      "outputs": [
        {
          "output_type": "stream",
          "name": "stdout",
          "text": [
            "              Feature  Correlation Score  Rank\n",
            "1                sttl           0.692741     1\n",
            "2        ct_state_ttl           0.577704     2\n",
            "3    ct_dst_sport_ltm           0.357213     3\n",
            "4                rate           0.337979     4\n",
            "5    ct_src_dport_ltm           0.305579     5\n",
            "6      ct_dst_src_ltm           0.303855     6\n",
            "7          ct_src_ltm           0.238225     7\n",
            "8          ct_dst_ltm           0.229887     8\n",
            "9          ct_srv_src           0.229044     9\n",
            "10         ct_srv_dst           0.228046    10\n",
            "11              sload           0.182870    11\n",
            "12             ackdat           0.097364    12\n",
            "13               dttl           0.095049    13\n",
            "14             tcprtt           0.081584    14\n",
            "15             synack           0.058299    15\n",
            "16                dur           0.036175    16\n",
            "17             sbytes           0.018576    17\n",
            "18   ct_flw_http_mthd           0.015800    18\n",
            "19        trans_depth           0.010801    19\n",
            "20              sloss          -0.000640    20\n",
            "21               sjit          -0.007069    21\n",
            "22              smean          -0.010798    22\n",
            "23         ct_ftp_cmd          -0.011055    23\n",
            "24       is_ftp_login          -0.011055    24\n",
            "25  response_body_len          -0.021361    25\n",
            "26             dinpkt          -0.022887    26\n",
            "27              spkts          -0.052178    27\n",
            "28               djit          -0.060870    28\n",
            "29             dbytes          -0.076871    29\n",
            "30              dloss          -0.094685    30\n",
            "31              dpkts          -0.118591    31\n",
            "32             sinpkt          -0.176110    32\n",
            "33    is_sm_ips_ports          -0.184679    33\n",
            "34              dtcpb          -0.250340    34\n",
            "35              stcpb          -0.255006    35\n",
            "36               dwin          -0.319626    36\n",
            "37               swin          -0.333633    37\n",
            "38              dmean          -0.341806    38\n",
            "39              dload          -0.393739    39\n",
            "\n",
            "Top 10 Features by Correlation Score:\n",
            "             Feature  Correlation Score  Rank\n",
            "1               sttl           0.692741     1\n",
            "2       ct_state_ttl           0.577704     2\n",
            "3   ct_dst_sport_ltm           0.357213     3\n",
            "4               rate           0.337979     4\n",
            "5   ct_src_dport_ltm           0.305579     5\n",
            "6     ct_dst_src_ltm           0.303855     6\n",
            "7         ct_src_ltm           0.238225     7\n",
            "8         ct_dst_ltm           0.229887     8\n",
            "9         ct_srv_src           0.229044     9\n",
            "10        ct_srv_dst           0.228046    10\n"
          ]
        }
      ],
      "source": [
        "#Aqui calculem la correlation matrix pero exloent els valors numerics.\n",
        "\n",
        "# Select only numeric columns and drop the 'id' column\n",
        "numeric_df = training_df.select_dtypes(include=['number']).drop(columns=['id'])\n",
        "\n",
        "# Calculate the correlation matrix\n",
        "correlation_matrix = numeric_df.corr()\n",
        "\n",
        "# Extract correlation scores for the target variable (assuming the target column is 'label')\n",
        "target_correlations = correlation_matrix['label'].sort_values(ascending=False)\n",
        "\n",
        "# Create a DataFrame to display the results as a table\n",
        "correlation_table = pd.DataFrame({\n",
        "    'Feature': target_correlations.index,\n",
        "    'Correlation Score': target_correlations.values\n",
        "})\n",
        "\n",
        "# Exclude the target variable itself from the table\n",
        "correlation_table = correlation_table[correlation_table['Feature'] != 'label']\n",
        "\n",
        "# Add a ranking column\n",
        "correlation_table['Rank'] = range(1, len(correlation_table) + 1)\n",
        "\n",
        "# Display the correlation table\n",
        "print(correlation_table)\n",
        "\n",
        "# Optionally, display the top 10 features\n",
        "print(\"\\nTop 10 Features by Correlation Score:\")\n",
        "print(correlation_table.head(10))"
      ]
    },
    {
      "cell_type": "markdown",
      "metadata": {
        "id": "uVmLyFffs6XX"
      },
      "source": [
        "We need to encode the categorical values so then can calculate the correlation matrix . We can use Label Encoding or One-hot encoding.\n"
      ]
    },
    {
      "cell_type": "code",
      "execution_count": 17,
      "metadata": {
        "id": "zcAVPy4X8-mU"
      },
      "outputs": [],
      "source": [
        "from sklearn.preprocessing import LabelEncoder\n",
        "\n",
        "# Encode categorical columns using LabelEncoder\n",
        "categorical_cols = ['proto', 'service', 'state', 'attack_cat']\n",
        "\n",
        "training_df_encoded = training_df.copy()  # Work on a copy of the DataFrame\n",
        "for col in categorical_cols:\n",
        "    le = LabelEncoder()\n",
        "    training_df_encoded[col] = le.fit_transform(training_df_encoded[col])"
      ]
    },
    {
      "cell_type": "code",
      "execution_count": 18,
      "metadata": {
        "colab": {
          "base_uri": "https://localhost:8080/"
        },
        "id": "oA2svbKC9G1c",
        "outputId": "abb9c24a-eff9-41de-b770-e5f1b1e5841b"
      },
      "outputs": [
        {
          "output_type": "stream",
          "name": "stdout",
          "text": [
            "\n",
            "Correlation Table:\n",
            "              Feature  Correlation Score  Rank\n",
            "1                sttl           0.692741     1\n",
            "2        ct_state_ttl           0.577704     2\n",
            "3               state           0.497685     3\n",
            "4    ct_dst_sport_ltm           0.357213     4\n",
            "5                rate           0.337979     5\n",
            "6    ct_src_dport_ltm           0.305579     6\n",
            "7      ct_dst_src_ltm           0.303855     7\n",
            "8          ct_src_ltm           0.238225     8\n",
            "9          ct_dst_ltm           0.229887     9\n",
            "10         ct_srv_src           0.229044    10\n",
            "11         ct_srv_dst           0.228046    11\n",
            "12              sload           0.182870    12\n",
            "13             ackdat           0.097364    13\n",
            "14               dttl           0.095049    14\n",
            "15             tcprtt           0.081584    15\n",
            "16             synack           0.058299    16\n",
            "17                dur           0.036175    17\n",
            "18            service           0.035052    18\n",
            "19              proto           0.020267    19\n",
            "20             sbytes           0.018576    20\n",
            "21   ct_flw_http_mthd           0.015800    21\n",
            "22        trans_depth           0.010801    22\n",
            "23              sloss          -0.000640    23\n",
            "24               sjit          -0.007069    24\n",
            "25              smean          -0.010798    25\n",
            "26         ct_ftp_cmd          -0.011055    26\n",
            "27       is_ftp_login          -0.011055    27\n",
            "28  response_body_len          -0.021361    28\n",
            "29             dinpkt          -0.022887    29\n",
            "30              spkts          -0.052178    30\n",
            "31               djit          -0.060870    31\n",
            "32             dbytes          -0.076871    32\n",
            "33              dloss          -0.094685    33\n",
            "34              dpkts          -0.118591    34\n",
            "35             sinpkt          -0.176110    35\n",
            "36    is_sm_ips_ports          -0.184679    36\n",
            "37              dtcpb          -0.250340    37\n",
            "38              stcpb          -0.255006    38\n",
            "39               dwin          -0.319626    39\n",
            "40               swin          -0.333633    40\n",
            "41              dmean          -0.341806    41\n",
            "42              dload          -0.393739    42\n",
            "43         attack_cat          -0.580908    43\n",
            "\n",
            "Top 10 Features by Correlation Score:\n",
            "             Feature  Correlation Score  Rank\n",
            "1               sttl           0.692741     1\n",
            "2       ct_state_ttl           0.577704     2\n",
            "3              state           0.497685     3\n",
            "4   ct_dst_sport_ltm           0.357213     4\n",
            "5               rate           0.337979     5\n",
            "6   ct_src_dport_ltm           0.305579     6\n",
            "7     ct_dst_src_ltm           0.303855     7\n",
            "8         ct_src_ltm           0.238225     8\n",
            "9         ct_dst_ltm           0.229887     9\n",
            "10        ct_srv_src           0.229044    10\n"
          ]
        }
      ],
      "source": [
        "# Select only numeric columns and drop 'id' (if not useful for correlation)\n",
        "numeric_df = training_df_encoded.select_dtypes(include=['number']).drop(columns=['id'])\n",
        "\n",
        "# Calculate the correlation matrix\n",
        "correlation_matrix = numeric_df.corr()\n",
        "\n",
        "# Extract correlation scores for the target variable (label)\n",
        "target_correlations = correlation_matrix['label'].sort_values(ascending=False)\n",
        "\n",
        "# Create a DataFrame to display the results as a table\n",
        "correlation_table = pd.DataFrame({\n",
        "    'Feature': target_correlations.index,\n",
        "    'Correlation Score': target_correlations.values\n",
        "})\n",
        "\n",
        "# Exclude the target variable itself from the table\n",
        "correlation_table = correlation_table[correlation_table['Feature'] != 'label']\n",
        "\n",
        "# Add a ranking column\n",
        "correlation_table['Rank'] = range(1, len(correlation_table) + 1)\n",
        "\n",
        "# Display the correlation table\n",
        "print(\"\\nCorrelation Table:\")\n",
        "print(correlation_table)\n",
        "\n",
        "# Optionally, display the top 10 features\n",
        "print(\"\\nTop 10 Features by Correlation Score:\")\n",
        "print(correlation_table.head(10))\n"
      ]
    },
    {
      "cell_type": "code",
      "execution_count": 19,
      "metadata": {
        "colab": {
          "base_uri": "https://localhost:8080/",
          "height": 971
        },
        "id": "4vtwHp1G9QMr",
        "outputId": "202f1ae2-497b-4612-839e-857eaaf2fabe"
      },
      "outputs": [
        {
          "output_type": "display_data",
          "data": {
            "text/plain": [
              "<Figure size 1200x1000 with 2 Axes>"
            ],
            "image/png": "[encoded data removed]"
          },
          "metadata": {}
        }
      ],
      "source": [
        "import seaborn as sns\n",
        "import matplotlib.pyplot as plt\n",
        "\n",
        "plt.figure(figsize=(12, 10))\n",
        "sns.heatmap(correlation_matrix, cmap='coolwarm', annot=False, fmt=\".2f\")\n",
        "plt.title('Correlation Matrix')\n",
        "plt.show()\n"
      ]
    },
    {
      "cell_type": "markdown",
      "metadata": {
        "id": "UiHtaf6OAKHJ"
      },
      "source": [
        "**Top Features**\n",
        "\n",
        "*   **sttl** - source time-to-live - TTL values often reflect network characteristics or attacker behaviour.\n",
        "*   **ct_state_ttl**- A high correlation suggest that connection with similar TTL and state values are strongly associated with malicious or normal trafic.\n",
        "\n",
        "*   **state** - The state of the connection (e.g., FIN, CON, REQ) is indicative of the traffic’s nature. Some states, such as interrupted (INT), may occur more frequently in malicious scenarios.\n",
        "*   **ct_dst_sport_ltm** This indicates that frequent connections to the same destination and source port could be a sign of malicious activity, such as scanning or flooding attacks.\n",
        "\n",
        "*   **rate** - A higher traffic rate is often indicative of attacks like DoS or DDoS, where attackers overwhelm the system.\n",
        "*   **ct_src_dport_ltm** - Repeated connections to specific ports are characteristic of port scans or exploitation attempts.\n",
        "*   **ct_dst_src_ltm**  - Repeated interactions between the same source and destination might suggest reconnaissance or probing behavior\n",
        "*   **ct_src_ltm, ct_dst_ltm, ct_srv_src, and ct_srv_dst** - These features collectively indicate repeated traffic to or from specific sources, destinations, or services. These patterns are often seen in malicious traffic (e.g., botnets, scans)\n",
        "\n",
        "\n",
        "\n",
        "\n",
        "\n",
        "\n"
      ]
    },
    {
      "cell_type": "code",
      "execution_count": 20,
      "metadata": {
        "id": "z_Tc0PKL_seq"
      },
      "outputs": [],
      "source": [
        "# Define the top features based on your correlation matrix\n",
        "top_features = ['sttl', 'ct_state_ttl', 'state', 'ct_dst_sport_ltm', 'rate',\n",
        "                'ct_src_dport_ltm', 'ct_dst_src_ltm', 'ct_src_ltm', 'ct_dst_ltm', 'ct_srv_src']\n",
        "\n",
        "# Define the target variable\n",
        "target = 'label'\n"
      ]
    },
    {
      "cell_type": "code",
      "execution_count": 21,
      "metadata": {
        "id": "vwfY0anlBK7J"
      },
      "outputs": [],
      "source": [
        "# Assume top_features and target are already defined\n",
        "X = training_df_encoded[top_features]\n",
        "y = training_df_encoded[target]\n",
        "\n",
        "# Now split into train and test sets\n",
        "from sklearn.model_selection import train_test_split\n",
        "X_train, X_test, y_train, y_test = train_test_split(X, y, test_size=0.2, random_state=42)\n",
        "\n",
        "\n"
      ]
    },
    {
      "cell_type": "code",
      "execution_count": 22,
      "metadata": {
        "id": "tgjC_G3QJ1cI"
      },
      "outputs": [],
      "source": [
        "# Assume top_features and target are already defined\n",
        "X = training_df_encoded[top_features]\n",
        "y = training_df_encoded[target]\n",
        "\n",
        "# Now split into train and test sets\n",
        "from sklearn.model_selection import train_test_split\n",
        "X_train, X_test, y_train, y_test = train_test_split(X, y, test_size=0.2, random_state=42)\n"
      ]
    },
    {
      "cell_type": "code",
      "execution_count": 23,
      "metadata": {
        "id": "Nzt12k5-RJmJ"
      },
      "outputs": [],
      "source": [
        "from sklearn.preprocessing import StandardScaler\n",
        "\n",
        "# Scale the data after defining X_train and X_test\n",
        "scaler = StandardScaler()\n",
        "X_train_scaled = scaler.fit_transform(X_train)\n",
        "X_test_scaled = scaler.transform(X_test)\n"
      ]
    },
    {
      "cell_type": "code",
      "execution_count": 24,
      "metadata": {
        "colab": {
          "base_uri": "https://localhost:8080/"
        },
        "id": "OB5wLKodBaii",
        "outputId": "5ea8ef65-173e-4750-e693-165e957bfed6"
      },
      "outputs": [
        {
          "output_type": "stream",
          "name": "stdout",
          "text": [
            "Training Naive Bayes...\n",
            "Training LDA...\n",
            "Training KNN...\n",
            "Training XGBoost...\n"
          ]
        },
        {
          "output_type": "stream",
          "name": "stderr",
          "text": [
            "/usr/local/lib/python3.10/dist-packages/xgboost/core.py:158: UserWarning: [11:01:14] WARNING: /workspace/src/learner.cc:740: \n",
            "Parameters: { \"use_label_encoder\" } are not used.\n",
            "\n",
            "  warnings.warn(smsg, UserWarning)\n"
          ]
        },
        {
          "output_type": "stream",
          "name": "stdout",
          "text": [
            "Training Decision Tree...\n",
            "Training Random Forest...\n",
            "Training SVM...\n",
            "Training AdaBoost...\n"
          ]
        },
        {
          "output_type": "stream",
          "name": "stderr",
          "text": [
            "/usr/local/lib/python3.10/dist-packages/sklearn/ensemble/_weight_boosting.py:527: FutureWarning: The SAMME.R algorithm (the default) is deprecated and will be removed in 1.6. Use the SAMME algorithm to circumvent this warning.\n",
            "  warnings.warn(\n"
          ]
        },
        {
          "output_type": "stream",
          "name": "stdout",
          "text": [
            "Training SGD...\n",
            "Training Logistic Regression...\n",
            "\n",
            "Model Performance with Top Features:\n",
            "                     Accuracy  Precision  Recall  F1 Score\n",
            "Naive Bayes             66.18      95.14   53.08     68.15\n",
            "LDA                     84.26      89.93   86.60     88.24\n",
            "KNN                     93.93      94.53   96.69     95.59\n",
            "XGBoost                 94.39      93.78   98.29     95.98\n",
            "Decision Tree           93.64      95.13   95.56     95.35\n",
            "Random Forest           94.20      94.97   96.61     95.78\n",
            "SVM                     93.11      91.45   99.17     95.15\n",
            "AdaBoost                93.09      92.36   97.96     95.08\n",
            "SGD                     84.35      89.89   86.81     88.32\n",
            "Logistic Regression     83.43      88.48   87.01     87.74\n"
          ]
        }
      ],
      "source": [
        "from sklearn.metrics import accuracy_score, precision_score, recall_score, f1_score\n",
        "from sklearn.naive_bayes import GaussianNB\n",
        "from sklearn.discriminant_analysis import LinearDiscriminantAnalysis as LDA\n",
        "from sklearn.neighbors import KNeighborsClassifier\n",
        "from sklearn.ensemble import RandomForestClassifier, AdaBoostClassifier\n",
        "from sklearn.tree import DecisionTreeClassifier\n",
        "from sklearn.svm import SVC\n",
        "from sklearn.linear_model import SGDClassifier, LogisticRegression\n",
        "import xgboost as xgb\n",
        "\n",
        "# List of models to train and evaluate\n",
        "models = {\n",
        "    'Naive Bayes': GaussianNB(),\n",
        "    'LDA': LDA(),\n",
        "    'KNN': KNeighborsClassifier(),\n",
        "    'XGBoost': xgb.XGBClassifier(use_label_encoder=False, eval_metric='logloss'),\n",
        "    'Decision Tree': DecisionTreeClassifier(),\n",
        "    'Random Forest': RandomForestClassifier(),\n",
        "    'SVM': SVC(),\n",
        "    'AdaBoost': AdaBoostClassifier(),\n",
        "    'SGD': SGDClassifier(),\n",
        "    'Logistic Regression': LogisticRegression()\n",
        "}\n",
        "\n",
        "# Function to train and evaluate models\n",
        "def evaluate_models(X_train, X_test, y_train, y_test):\n",
        "    results = {}\n",
        "\n",
        "    for name, model in models.items():\n",
        "        print(f\"Training {name}...\")\n",
        "        model.fit(X_train, y_train)\n",
        "        y_pred = model.predict(X_test)\n",
        "\n",
        "        # Calculate performance metrics\n",
        "        accuracy = accuracy_score(y_test, y_pred)\n",
        "        precision = precision_score(y_test, y_pred, zero_division=1)\n",
        "        recall = recall_score(y_test, y_pred, zero_division=1)\n",
        "        f1 = f1_score(y_test, y_pred, zero_division=1)\n",
        "\n",
        "        # Store results\n",
        "        results[name] = {\n",
        "            'Accuracy': round(accuracy * 100, 2),\n",
        "            'Precision': round(precision * 100, 2),\n",
        "            'Recall': round(recall * 100, 2),\n",
        "            'F1 Score': round(f1 * 100, 2)\n",
        "        }\n",
        "\n",
        "    return pd.DataFrame.from_dict(results, orient='index')\n",
        "\n",
        "# Evaluate the models using the prepared data\n",
        "results = evaluate_models(X_train_scaled, X_test_scaled, y_train, y_test)\n",
        "print(\"\\nModel Performance with Top Features:\")\n",
        "print(results)\n"
      ]
    },
    {
      "cell_type": "code",
      "execution_count": 25,
      "metadata": {
        "colab": {
          "base_uri": "https://localhost:8080/"
        },
        "id": "K5yRukiGHnCN",
        "outputId": "21703875-f28d-424b-e8cc-97f8476d34f2"
      },
      "outputs": [
        {
          "output_type": "stream",
          "name": "stdout",
          "text": [
            "Fitting 5 folds for each of 324 candidates, totalling 1620 fits\n"
          ]
        },
        {
          "output_type": "stream",
          "name": "stderr",
          "text": [
            "/usr/local/lib/python3.10/dist-packages/joblib/externals/loky/process_executor.py:752: UserWarning: A worker stopped while some jobs were given to the executor. This can be caused by a too short worker timeout or by a memory leak.\n",
            "  warnings.warn(\n",
            "/usr/local/lib/python3.10/dist-packages/sklearn/model_selection/_validation.py:540: FitFailedWarning: \n",
            "540 fits failed out of a total of 1620.\n",
            "The score on these train-test partitions for these parameters will be set to nan.\n",
            "If these failures are not expected, you can try to debug them by setting error_score='raise'.\n",
            "\n",
            "Below are more details about the failures:\n",
            "--------------------------------------------------------------------------------\n",
            "71 fits failed with the following error:\n",
            "Traceback (most recent call last):\n",
            "  File \"/usr/local/lib/python3.10/dist-packages/sklearn/model_selection/_validation.py\", line 888, in _fit_and_score\n",
            "    estimator.fit(X_train, y_train, **fit_params)\n",
            "  File \"/usr/local/lib/python3.10/dist-packages/sklearn/base.py\", line 1466, in wrapper\n",
            "    estimator._validate_params()\n",
            "  File \"/usr/local/lib/python3.10/dist-packages/sklearn/base.py\", line 666, in _validate_params\n",
            "    validate_parameter_constraints(\n",
            "  File \"/usr/local/lib/python3.10/dist-packages/sklearn/utils/_param_validation.py\", line 95, in validate_parameter_constraints\n",
            "    raise InvalidParameterError(\n",
            "sklearn.utils._param_validation.InvalidParameterError: The 'max_features' parameter of RandomForestClassifier must be an int in the range [1, inf), a float in the range (0.0, 1.0], a str among {'log2', 'sqrt'} or None. Got 'auto' instead.\n",
            "\n",
            "--------------------------------------------------------------------------------\n",
            "469 fits failed with the following error:\n",
            "Traceback (most recent call last):\n",
            "  File \"/usr/local/lib/python3.10/dist-packages/sklearn/model_selection/_validation.py\", line 888, in _fit_and_score\n",
            "    estimator.fit(X_train, y_train, **fit_params)\n",
            "  File \"/usr/local/lib/python3.10/dist-packages/sklearn/base.py\", line 1466, in wrapper\n",
            "    estimator._validate_params()\n",
            "  File \"/usr/local/lib/python3.10/dist-packages/sklearn/base.py\", line 666, in _validate_params\n",
            "    validate_parameter_constraints(\n",
            "  File \"/usr/local/lib/python3.10/dist-packages/sklearn/utils/_param_validation.py\", line 95, in validate_parameter_constraints\n",
            "    raise InvalidParameterError(\n",
            "sklearn.utils._param_validation.InvalidParameterError: The 'max_features' parameter of RandomForestClassifier must be an int in the range [1, inf), a float in the range (0.0, 1.0], a str among {'sqrt', 'log2'} or None. Got 'auto' instead.\n",
            "\n",
            "  warnings.warn(some_fits_failed_message, FitFailedWarning)\n",
            "/usr/local/lib/python3.10/dist-packages/sklearn/model_selection/_search.py:1103: UserWarning: One or more of the test scores are non-finite: [       nan        nan        nan        nan        nan        nan\n",
            "        nan        nan        nan        nan        nan        nan\n",
            "        nan        nan        nan        nan        nan        nan\n",
            "        nan        nan        nan        nan        nan        nan\n",
            "        nan        nan        nan 0.95760701 0.95759414 0.95769802\n",
            " 0.95844569 0.95859652 0.95855574 0.95909057 0.95912741 0.95916803\n",
            " 0.95934935 0.9594861  0.95940723 0.95938495 0.95934513 0.95932571\n",
            " 0.95927639 0.95932421 0.95954897 0.95921819 0.95937505 0.95931125\n",
            " 0.95921819 0.95937505 0.95931125 0.95914001 0.95921416 0.95926563\n",
            " 0.95760701 0.95759414 0.95769802 0.95844569 0.95859652 0.95855574\n",
            " 0.95909057 0.95912741 0.95916803 0.95934935 0.9594861  0.95940723\n",
            " 0.95938495 0.95934513 0.95932571 0.95927639 0.95932421 0.95954897\n",
            " 0.95921819 0.95937505 0.95931125 0.95921819 0.95937505 0.95931125\n",
            " 0.95914001 0.95921416 0.95926563        nan        nan        nan\n",
            "        nan        nan        nan        nan        nan        nan\n",
            "        nan        nan        nan        nan        nan        nan\n",
            "        nan        nan        nan        nan        nan        nan\n",
            "        nan        nan        nan        nan        nan        nan\n",
            " 0.95701467 0.95703114 0.95695281 0.95685611 0.95698072 0.95681915\n",
            " 0.95694251 0.95684831 0.95681155 0.95670546 0.9568366  0.95683756\n",
            " 0.95662272 0.95673587 0.95669716 0.95663981 0.95681655 0.95675484\n",
            " 0.95663532 0.956783   0.95667634 0.95663532 0.956783   0.95667634\n",
            " 0.95667643 0.95669504 0.95667744 0.95701467 0.95703114 0.95695281\n",
            " 0.95685611 0.95698072 0.95681915 0.95694251 0.95684831 0.95681155\n",
            " 0.95670546 0.9568366  0.95683756 0.95662272 0.95673587 0.95669716\n",
            " 0.95663981 0.95681655 0.95675484 0.95663532 0.956783   0.95667634\n",
            " 0.95663532 0.956783   0.95667634 0.95667643 0.95669504 0.95667744\n",
            "        nan        nan        nan        nan        nan        nan\n",
            "        nan        nan        nan        nan        nan        nan\n",
            "        nan        nan        nan        nan        nan        nan\n",
            "        nan        nan        nan        nan        nan        nan\n",
            "        nan        nan        nan 0.96178822 0.96202726 0.96191541\n",
            " 0.96169749 0.96186036 0.9619299  0.96109546 0.9610798  0.96105917\n",
            " 0.96120845 0.96132052 0.96132783 0.96099137 0.96097923 0.96102365\n",
            " 0.96066858 0.9606509  0.960568   0.96017701 0.96021125 0.9602251\n",
            " 0.96017701 0.96021125 0.9602251  0.96010676 0.9601319  0.9601904\n",
            " 0.96178822 0.96202726 0.96191541 0.96169749 0.96186036 0.9619299\n",
            " 0.96109546 0.9610798  0.96105917 0.96120845 0.96132052 0.96132783\n",
            " 0.96099137 0.96097923 0.96102365 0.96066858 0.9606509  0.960568\n",
            " 0.96017701 0.96021125 0.9602251  0.96017701 0.96021125 0.9602251\n",
            " 0.96010676 0.9601319  0.9601904         nan        nan        nan\n",
            "        nan        nan        nan        nan        nan        nan\n",
            "        nan        nan        nan        nan        nan        nan\n",
            "        nan        nan        nan        nan        nan        nan\n",
            "        nan        nan        nan        nan        nan        nan\n",
            " 0.95813351 0.95807648 0.95816496 0.95913641 0.95935337 0.95925611\n",
            " 0.95934483 0.95944754 0.95948683 0.95966931 0.95973718 0.95968385\n",
            " 0.95963543 0.9594875  0.95947585 0.95963316 0.95971104 0.95966819\n",
            " 0.95917213 0.95930866 0.95940213 0.95917213 0.95930866 0.95940213\n",
            " 0.95959002 0.95949166 0.95942872 0.95813351 0.95807648 0.95816496\n",
            " 0.95913641 0.95935337 0.95925611 0.95934483 0.95944754 0.95948683\n",
            " 0.95966931 0.95973718 0.95968385 0.95963543 0.9594875  0.95947585\n",
            " 0.95963316 0.95971104 0.95966819 0.95917213 0.95930866 0.95940213\n",
            " 0.95917213 0.95930866 0.95940213 0.95959002 0.95949166 0.95942872]\n",
            "  warnings.warn(\n"
          ]
        },
        {
          "output_type": "stream",
          "name": "stdout",
          "text": [
            "Best parameters: {'max_depth': 20, 'max_features': 'sqrt', 'min_samples_leaf': 1, 'min_samples_split': 2, 'n_estimators': 200}\n",
            "Best F1-score: 0.9620272582304867\n"
          ]
        }
      ],
      "source": [
        "from sklearn.ensemble import RandomForestClassifier\n",
        "from sklearn.model_selection import GridSearchCV\n",
        "\n",
        "# Define the parameter grid for Random Forest\n",
        "param_grid = {\n",
        "    'n_estimators': [100, 200, 300],\n",
        "    'max_depth': [None, 10, 20, 30],\n",
        "    'min_samples_split': [2, 5, 10],\n",
        "    'min_samples_leaf': [1, 2, 4],\n",
        "    'max_features': ['auto', 'sqrt', 'log2']\n",
        "}\n",
        "\n",
        "# Initialize a base model\n",
        "rf_model = RandomForestClassifier(random_state=42)\n",
        "\n",
        "# Initialize the grid search\n",
        "grid_search = GridSearchCV(estimator=rf_model,\n",
        "                           param_grid=param_grid,\n",
        "                           scoring='f1',\n",
        "                           cv=5,            # 5-fold cross-validation\n",
        "                           verbose=2,       # For detailed output\n",
        "                           n_jobs=-1)       # Use all available CPU cores\n",
        "\n",
        "# Fit the grid search on the training data\n",
        "grid_search.fit(X_train_scaled, y_train)\n",
        "\n",
        "# Print the best parameters\n",
        "print(\"Best parameters:\", grid_search.best_params_)\n",
        "print(\"Best F1-score:\", grid_search.best_score_)\n",
        "\n",
        "# Use the best estimator for predictions\n",
        "best_rf_model = grid_search.best_estimator_\n",
        "y_pred = best_rf_model.predict(X_test_scaled)\n"
      ]
    }
  ],
  "metadata": {
    "colab": {
      "provenance": []
    },
    "kernelspec": {
      "display_name": "Python 3",
      "name": "python3"
    },
    "language_info": {
      "name": "python"
    }
  },
  "nbformat": 4,
  "nbformat_minor": 0
}